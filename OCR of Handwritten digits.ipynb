{
 "cells": [
  {
   "cell_type": "code",
   "execution_count": 1,
   "id": "cc306efe",
   "metadata": {},
   "outputs": [],
   "source": [
    "import numpy as np\n",
    "import cv2"
   ]
  },
  {
   "cell_type": "code",
   "execution_count": 2,
   "id": "0965ae71",
   "metadata": {},
   "outputs": [],
   "source": [
    "# Read the image \n",
    "image = cv2.imread('C:\\\\Users\\\\silad\\\\Downloads\\\\digits1.png')"
   ]
  },
  {
   "cell_type": "code",
   "execution_count": 3,
   "id": "1b40404b",
   "metadata": {},
   "outputs": [],
   "source": [
    "# gray scale conversion \n",
    "gray_img = cv2.cvtColor(image, cv2.COLOR_BGR2GRAY) \n"
   ]
  },
  {
   "cell_type": "code",
   "execution_count": 4,
   "id": "708aa26b",
   "metadata": {},
   "outputs": [],
   "source": [
    "# We will divide the image \n",
    "# into 5000 small dimensions \n",
    "# of size 20x20 \n",
    "divisions = list(np.hsplit(i,100) for i in np.vsplit(gray_img,50)) "
   ]
  },
  {
   "cell_type": "code",
   "execution_count": 5,
   "id": "86f0fb6f",
   "metadata": {},
   "outputs": [],
   "source": [
    "# Convert into Numpy array \n",
    "# of size (50,100,20,20) \n",
    "NP_array = np.array(divisions) \n"
   ]
  },
  {
   "cell_type": "code",
   "execution_count": 6,
   "id": "70f6e6ac",
   "metadata": {},
   "outputs": [],
   "source": [
    "# Preparing train_data \n",
    "# and test_data. \n",
    "# Size will be (2500,20x20) \n",
    "train_data = NP_array[:,:50].reshape(-1,400).astype(np.float32)"
   ]
  },
  {
   "cell_type": "code",
   "execution_count": 7,
   "id": "0336a624",
   "metadata": {},
   "outputs": [],
   "source": [
    "# Size will be (2500,20x20) \n",
    "test_data = NP_array[:,50:100].reshape(-1,400).astype(np.float32)"
   ]
  },
  {
   "cell_type": "code",
   "execution_count": 8,
   "id": "97406e61",
   "metadata": {},
   "outputs": [],
   "source": [
    "# Create 10 different labels \n",
    "# for each type of digit \n",
    "k = np.arange(10) \n",
    "train_labels = np.repeat(k,250)[:,np.newaxis] \n",
    "test_labels = np.repeat(k,250)[:,np.newaxis]"
   ]
  },
  {
   "cell_type": "code",
   "execution_count": 9,
   "id": "7aa54f94",
   "metadata": {},
   "outputs": [],
   "source": [
    "# Initiate kNN classifier \n",
    "knn = cv2.ml.KNearest_create()"
   ]
  },
  {
   "cell_type": "code",
   "execution_count": 10,
   "id": "9982e654",
   "metadata": {},
   "outputs": [
    {
     "data": {
      "text/plain": [
       "True"
      ]
     },
     "execution_count": 10,
     "metadata": {},
     "output_type": "execute_result"
    }
   ],
   "source": [
    "# perform training of data \n",
    "knn.train(train_data, cv2.ml.ROW_SAMPLE, train_labels) "
   ]
  },
  {
   "cell_type": "code",
   "execution_count": 11,
   "id": "49f85f6f",
   "metadata": {},
   "outputs": [],
   "source": [
    "# obtain the output from the \n",
    "# classifier by specifying the \n",
    "# number of neighbors. \n",
    "ret, output ,neighbours, distance = knn.findNearest(test_data, k = 3) \n"
   ]
  },
  {
   "cell_type": "code",
   "execution_count": 12,
   "id": "de37eee3",
   "metadata": {},
   "outputs": [],
   "source": [
    "# Check the performance and \n",
    "# accuracy of the classifier. \n",
    "# Compare the output with test_labels \n",
    "# to find out how many are wrong. \n",
    "matched = output==test_labels \n",
    "correct_OP = np.count_nonzero(matched) "
   ]
  },
  {
   "cell_type": "code",
   "execution_count": 13,
   "id": "49397efd",
   "metadata": {},
   "outputs": [
    {
     "name": "stdout",
     "output_type": "stream",
     "text": [
      "91.64\n"
     ]
    }
   ],
   "source": [
    "#Calculate the accuracy. \n",
    "accuracy = (correct_OP*100.0)/(output.size) \n",
    "\n",
    "# Display accuracy. \n",
    "print(accuracy)"
   ]
  },
  {
   "cell_type": "code",
   "execution_count": null,
   "id": "a6ba1fb4",
   "metadata": {},
   "outputs": [],
   "source": []
  }
 ],
 "metadata": {
  "kernelspec": {
   "display_name": "Python 3 (ipykernel)",
   "language": "python",
   "name": "python3"
  },
  "language_info": {
   "codemirror_mode": {
    "name": "ipython",
    "version": 3
   },
   "file_extension": ".py",
   "mimetype": "text/x-python",
   "name": "python",
   "nbconvert_exporter": "python",
   "pygments_lexer": "ipython3",
   "version": "3.9.12"
  }
 },
 "nbformat": 4,
 "nbformat_minor": 5
}
